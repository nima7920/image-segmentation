{
 "cells": [
  {
   "cell_type": "markdown",
   "metadata": {
    "collapsed": true,
    "pycharm": {
     "name": "#%% md\n"
    }
   },
   "source": [
    "## Image Segmentation with SLIC and clustering with k-means\n",
    "### Abstract\n",
    "In this project we implement k-means method for clustering a given set of points in two\n",
    "different coordinates : Cartesian and polar coordinates. Functions for this are in\n",
    "`k_means.py`. Also, we will implement SLIC method for image segmentation. Functions\n",
    "for SLIC are in `slic.py`. `main.py` contains code for testing these functions.\n"
   ]
  },
  {
   "cell_type": "markdown",
   "source": [
    "### k-means\n",
    "We will implement k-means method for clustering\n",
    "a given set of points in plane. for all results, we set\n",
    "k=2, but code can be used for clustering points to any\n",
    "number of clusters.\n",
    "<div>\n",
    "<ol>\n",
    "<li>\n",
    "First two results are clustering of points based on their\n",
    "coordinates in Euclidean system. Clustering points in\n",
    "this way divides them (almost) equally into two sets, by\n",
    "a line passing throw the center of the coordinates. This would\n",
    "be a random line, as the initial cluster centers are chosen\n",
    "randomly.\n",
    "<li>\n",
    "Last result is a clustering\n",
    "of points based on their magnitude in polar coordinates,\n",
    "which is a better clustering. This method will divide the points\n",
    "into two sets, one of them being the smaller circle arround\n",
    "the center, and the second being the ring of point arround the center\n",
    "which is farther from central points. This result seems to be a better results,\n",
    "since the points in different clusters are far from each other and indeed seem to be\n",
    "in different components.\n",
    "</ol>\n",
    "</div>"
   ],
   "metadata": {
    "collapsed": false
   }
  },
  {
   "cell_type": "markdown",
   "source": [
    "The function `readPoints` is used to read the coordinates\n",
    "of points written in a given file,and returns a numpy array containing them:"
   ],
   "metadata": {
    "collapsed": false
   }
  },
  {
   "cell_type": "code",
   "execution_count": null,
   "outputs": [],
   "source": [
    "import numpy as np\n",
    "import cv2\n",
    "import matplotlib.pyplot as plt\n",
    "import math\n",
    "\n",
    "\n",
    "def readPoints(file):\n",
    "    f = open(file)\n",
    "    n = int(f.readline())\n",
    "    points = np.zeros((2, 0))\n",
    "    for line in f.readlines():\n",
    "        point = line.split(\" \")\n",
    "        [x, y] = float(point[0]), float(point[1])\n",
    "        points = np.c_[points, [x, y]]\n",
    "    return n, points\n",
    "\n"
   ],
   "metadata": {
    "collapsed": false,
    "pycharm": {
     "name": "#%%\n"
    }
   }
  },
  {
   "cell_type": "markdown",
   "source": [
    "next function initializes k random centers from a\n",
    "given set of points :"
   ],
   "metadata": {
    "collapsed": false
   }
  },
  {
   "cell_type": "code",
   "execution_count": null,
   "outputs": [],
   "source": [
    "def get_random_centers(points, k):\n",
    "    mask = np.random.choice(np.arange(points.shape[1]), k, replace=False)\n",
    "    return points[:, mask]"
   ],
   "metadata": {
    "collapsed": false,
    "pycharm": {
     "name": "#%%\n"
    }
   }
  },
  {
   "cell_type": "markdown",
   "source": [
    "The `cluster_points` function takes points, cluster centers and integer i\n",
    "as parameters, and returns the set of points which fall into the i'th cluster:"
   ],
   "metadata": {
    "collapsed": false
   }
  },
  {
   "cell_type": "code",
   "execution_count": null,
   "outputs": [],
   "source": [
    "def cluster_points(points, selected_points, i):  # returns an array containing the i'th cluster\n",
    "    result = np.zeros((points.shape[0], 0))\n",
    "    for j in range(points.shape[1]):\n",
    "        m = np.sum(np.square(points[:, j] - selected_points[:, i]))\n",
    "        is_in_cluster = True\n",
    "        for x in range(selected_points.shape[1]):\n",
    "            n = np.sum(np.square(points[:, j] - selected_points[:, x]))\n",
    "            if n < m:\n",
    "                is_in_cluster = False\n",
    "                break\n",
    "        if is_in_cluster:\n",
    "            result = np.c_[result, points[:, j]]\n",
    "\n",
    "    return result"
   ],
   "metadata": {
    "collapsed": false,
    "pycharm": {
     "name": "#%%\n"
    }
   }
  },
  {
   "cell_type": "markdown",
   "source": [
    "Function `get_mean_points` takes the points of a cluster as\n",
    "input and outputs the new center (mean point) of the cluster:"
   ],
   "metadata": {
    "collapsed": false
   }
  },
  {
   "cell_type": "code",
   "execution_count": null,
   "outputs": [],
   "source": [
    "def get_mean_point(cluster):\n",
    "    mean = np.average(cluster, axis=1)\n",
    "    return mean\n"
   ],
   "metadata": {
    "collapsed": false,
    "pycharm": {
     "name": "#%%\n"
    }
   }
  },
  {
   "cell_type": "markdown",
   "source": [
    "Main function for the first two results of the code is\n",
    "function `k-mean`. It takes points and k ( and a threshold, which is set to be zero )\n",
    "as input and using the previous functions outputs the final cluster centers of the points ( which is an array of\n",
    "k points )"
   ],
   "metadata": {
    "collapsed": false
   }
  },
  {
   "cell_type": "code",
   "execution_count": null,
   "outputs": [],
   "source": [
    "def k_means(points, k, threshold=0):\n",
    "    selected_points = get_random_centers(points, k)\n",
    "    diff = float('inf')\n",
    "    while diff > threshold:\n",
    "        mean_points = np.zeros((points.shape[0], k))\n",
    "        for i in range(k):\n",
    "            cluster_i = cluster_points(points, selected_points, i)\n",
    "            mean_i = get_mean_point(cluster_i)\n",
    "            mean_points[:, i] = mean_i\n",
    "        diff = np.sum(np.square(selected_points - mean_points))\n",
    "        selected_points = mean_points.copy()\n",
    "    return mean_points\n"
   ],
   "metadata": {
    "collapsed": false,
    "pycharm": {
     "name": "#%%\n"
    }
   }
  },
  {
   "cell_type": "markdown",
   "source": [
    "Finally, function `draw_fig`, takes points, cluster centers,k, a list of colors\n",
    "( for coloring points in each cluster) and an output path, and saves the image of clustered\n",
    "points in the given output path:"
   ],
   "metadata": {
    "collapsed": false
   }
  },
  {
   "cell_type": "code",
   "execution_count": null,
   "outputs": [],
   "source": [
    "def draw_fig(points, cluster_centers, k, colors, output_path):\n",
    "    for i in range(k):\n",
    "        cluster_i = cluster_points(points, cluster_centers, i)\n",
    "        for j in range(cluster_i.shape[1]):\n",
    "            plt.plot(cluster_i[0, j], cluster_i[1, j], marker='.', color=colors[i])\n",
    "\n",
    "    plt.savefig(output_path)\n",
    "    plt.show()"
   ],
   "metadata": {
    "collapsed": false,
    "pycharm": {
     "name": "#%%\n"
    }
   }
  },
  {
   "cell_type": "markdown",
   "source": [
    "### Clustering in Polar Coordinates\n",
    "Following functions are used to cluster points based on their\n",
    "magnitude in polar coordinates. Main implementation of them\n",
    "is similar to the previous functions: we first take the given points\n",
    "to polar space and apply k-mean on their magnitude, just in the same way we applied it\n",
    "for Euclidean coordinates."
   ],
   "metadata": {
    "collapsed": false
   }
  },
  {
   "cell_type": "code",
   "execution_count": null,
   "outputs": [],
   "source": [
    "def get_polar_coordinates(points):\n",
    "    polar_points = np.zeros(points.shape)\n",
    "    for i in range(points.shape[1]):\n",
    "        x, y = points[0, i], points[1, i]\n",
    "        r = np.sqrt(x ** 2 + y ** 2)\n",
    "        theta = math.atan2(x, y)\n",
    "        polar_points[:, i] = (r, theta)\n",
    "    return polar_points\n",
    "\n",
    "\n",
    "def cluster_points_polar(points, selected_points, i):\n",
    "    result = np.zeros((points.shape[0], 0))\n",
    "    for j in range(points.shape[1]):\n",
    "        m = np.sum(np.square(points[0, j] - selected_points[0, i]))\n",
    "        is_in_cluster = True\n",
    "        for x in range(selected_points.shape[1]):\n",
    "            n = np.sum(np.square(points[0, j] - selected_points[0, x]))\n",
    "            if n < m:\n",
    "                is_in_cluster = False\n",
    "                break\n",
    "        if is_in_cluster:\n",
    "            result = np.c_[result, points[:, j]]\n",
    "\n",
    "    return result\n",
    "\n",
    "\n",
    "def k_means_polar(points, k, threshold=0):\n",
    "    selected_points = get_random_centers(points, k)\n",
    "    diff = float('inf')\n",
    "    while diff > threshold:\n",
    "        mean_points = np.zeros((points.shape[0], k))\n",
    "        for i in range(k):\n",
    "            cluster_i = cluster_points_polar(points, selected_points, i)\n",
    "            mean_i = get_mean_point(cluster_i)\n",
    "            mean_points[:, i] = mean_i\n",
    "        diff = np.sum(np.square(selected_points[0:] - mean_points[0:]))\n",
    "        selected_points = mean_points.copy()\n",
    "    return mean_points\n"
   ],
   "metadata": {
    "collapsed": false,
    "pycharm": {
     "name": "#%%\n"
    }
   }
  },
  {
   "cell_type": "markdown",
   "source": [
    "Final function is used to draw points in polar coordinates in plane, and save the resulting image\n",
    "in a given directory:"
   ],
   "metadata": {
    "collapsed": false
   }
  },
  {
   "cell_type": "code",
   "execution_count": null,
   "outputs": [],
   "source": [
    "def draw_polar_fig(polar_points, polar_centers, k, colors, output_path):\n",
    "    for i in range(k):\n",
    "        cluster_i = cluster_points_polar(polar_points, polar_centers, i)\n",
    "        for j in range(cluster_i.shape[1]):\n",
    "            r, theta = cluster_i[0, j], cluster_i[1, j]\n",
    "            x, y = r * np.sin(theta), r * np.cos(theta)\n",
    "            plt.plot(x, y, marker='.', color=colors[i])\n",
    "\n",
    "    plt.savefig(output_path)\n",
    "    plt.show()"
   ],
   "metadata": {
    "collapsed": false,
    "pycharm": {
     "name": "#%%\n"
    }
   }
  },
  {
   "cell_type": "markdown",
   "source": [
    "### The Main File\n",
    "Now in `main.py`, we will use the functions in `k_means.py` to apply k-mean.\n",
    "We start by reading points from file and plotting them:"
   ],
   "metadata": {
    "collapsed": false
   }
  },
  {
   "cell_type": "code",
   "execution_count": null,
   "outputs": [],
   "source": [
    "import k_means\n",
    "import matplotlib.pyplot as plt\n",
    "import numpy as np\n",
    "import cv2\n",
    "\n",
    "input_path = \"inputs/Points.txt\"\n",
    "output_paths = [\"outputs/res01.jpg\", \"outputs/res02.jpg\", \"outputs/res03.jpg\", \"outputs/res04.jpg\"]\n",
    "\n",
    "''' showing initial points '''\n",
    "\n",
    "n, points = k_means.readPoints(\"inputs/Points.txt\")\n",
    "for i in range(points[0].size):\n",
    "    plt.plot(points[0, i], points[1, i], marker='.', color='blue')\n",
    "plt.savefig(output_paths[0])\n",
    "plt.show()"
   ],
   "metadata": {
    "collapsed": false,
    "pycharm": {
     "name": "#%%\n"
    }
   }
  },
  {
   "cell_type": "markdown",
   "source": [
    "Then by setting k=2 and color of each cluster, we apply first k-mean method\n",
    "(on Euclidean coordinates ) 2 times :"
   ],
   "metadata": {
    "collapsed": false
   }
  },
  {
   "cell_type": "code",
   "execution_count": null,
   "outputs": [],
   "source": [
    "k = 2\n",
    "colors = [\"red\", \"green\"]\n",
    "for i in range(1, 3):\n",
    "    selected_points = k_means.get_random_centers(points, k)\n",
    "    centers = k_means.k_means(points, k)\n",
    "    k_means.draw_fig(points, centers, k, colors, output_paths[i])"
   ],
   "metadata": {
    "collapsed": false,
    "pycharm": {
     "name": "#%%\n"
    }
   }
  },
  {
   "cell_type": "markdown",
   "source": [
    "Finally, we cluster points based on their polar coordinates, by first taking them\n",
    "to polar space, and then applying k-mean on the magnitude of the points:"
   ],
   "metadata": {
    "collapsed": false
   }
  },
  {
   "cell_type": "code",
   "execution_count": null,
   "outputs": [],
   "source": [
    "''' clustering in polar coordinates '''\n",
    "polar_points = k_means.get_polar_coordinates(points)\n",
    "polar_centers = k_means.k_means_polar(polar_points, k)\n",
    "k_means.draw_polar_fig(polar_points, polar_centers, k, colors, output_paths[3])\n"
   ],
   "metadata": {
    "collapsed": false,
    "pycharm": {
     "name": "#%%\n"
    }
   }
  },
  {
   "cell_type": "markdown",
   "source": [
    "### SLIC method\n"
   ],
   "metadata": {
    "collapsed": false
   }
  }
 ],
 "metadata": {
  "kernelspec": {
   "display_name": "Python 3",
   "language": "python",
   "name": "python3"
  },
  "language_info": {
   "codemirror_mode": {
    "name": "ipython",
    "version": 2
   },
   "file_extension": ".py",
   "mimetype": "text/x-python",
   "name": "python",
   "nbconvert_exporter": "python",
   "pygments_lexer": "ipython2",
   "version": "2.7.6"
  }
 },
 "nbformat": 4,
 "nbformat_minor": 0
}